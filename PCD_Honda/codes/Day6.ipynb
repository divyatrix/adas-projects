{
 "cells": [
  {
   "cell_type": "code",
   "execution_count": 32,
   "id": "be07ed6e",
   "metadata": {},
   "outputs": [
    {
     "name": "stdout",
     "output_type": "stream",
     "text": [
      "PointCloud with 36723 points.\n"
     ]
    }
   ],
   "source": [
    "# How to view attributes in Open3D (Python):\n",
    "\n",
    "import open3d as o3d\n",
    "import numpy as np\n",
    "\n",
    "pcd = o3d.io.read_point_cloud(\"Data/1398110231.025_ascii.pcd\")\n",
    "print(pcd)\n",
    "\n"
   ]
  },
  {
   "cell_type": "code",
   "execution_count": 33,
   "id": "8869c6a2",
   "metadata": {},
   "outputs": [
    {
     "name": "stdout",
     "output_type": "stream",
     "text": [
      "[[ 25.29000092 -19.54000092  15.44799995]\n",
      " [ 22.74300003 -20.44499969   6.78700018]\n",
      " [ 21.59900093 -20.92900085   2.99600005]\n",
      " ...\n",
      " [ -2.42600012   2.33899999   1.25499999]\n",
      " [ -2.17499995   2.38599992   0.95499998]\n",
      " [ -1.04700005   1.00100005   2.36899996]]\n"
     ]
    }
   ],
   "source": [
    "print(np.asarray(pcd.points))     # x, y, z\n",
    "  "
   ]
  },
  {
   "cell_type": "code",
   "execution_count": 34,
   "id": "320b3387",
   "metadata": {},
   "outputs": [
    {
     "name": "stdout",
     "output_type": "stream",
     "text": [
      "[]\n"
     ]
    }
   ],
   "source": [
    "print(np.asarray(pcd.colors))   # rgb, if available"
   ]
  },
  {
   "cell_type": "code",
   "execution_count": 35,
   "id": "c6a18d57",
   "metadata": {},
   "outputs": [],
   "source": [
    "# Visualizing Point Clouds in Open3D\n",
    "\n",
    "pcd = o3d.io.read_point_cloud(\"Data/1398110231.025_ascii.pcd\")\n",
    "o3d.visualization.draw_geometries([pcd])"
   ]
  },
  {
   "cell_type": "code",
   "execution_count": 36,
   "id": "e806575b",
   "metadata": {},
   "outputs": [
    {
     "name": "stdout",
     "output_type": "stream",
     "text": [
      "Min: [-44.3769989 -63.0530014  -0.866    ]\n",
      "Max: [37.64899826 15.59000015 15.44799995]\n",
      "Mean: [-2.74268995 -3.64932906  0.23072747]\n"
     ]
    }
   ],
   "source": [
    "# Calculating Mean, Min, Max Coordinates\n",
    "\n",
    "# These values help us understand the size and spread of the point cloud.\n",
    "\n",
    "import numpy as np\n",
    "\n",
    "points = np.asarray(pcd.points)\n",
    "\n",
    "min_coords = points.min(axis=0)   # [min_x, min_y, min_z]\n",
    "max_coords = points.max(axis=0)   # [max_x, max_y, max_z]\n",
    "mean_coords = points.mean(axis=0) # [mean_x, mean_y, mean_z]\n",
    "\n",
    "print(\"Min:\", min_coords)\n",
    "print(\"Max:\", max_coords)\n",
    "print(\"Mean:\", mean_coords)\n"
   ]
  },
  {
   "cell_type": "code",
   "execution_count": 37,
   "id": "006e4008",
   "metadata": {},
   "outputs": [
    {
     "name": "stdout",
     "output_type": "stream",
     "text": [
      "[-44.3769989 -63.0530014  -0.866    ]\n",
      "[37.64899826 15.59000015 15.44799995]\n",
      "[-2.74268995 -3.64932906  0.23072747]\n"
     ]
    }
   ],
   "source": [
    "# Min, Max, Mean\n",
    "\n",
    "min_coords = points.min(axis=0)\n",
    "print(min_coords)\n",
    "max_coords = points.max(axis=0)\n",
    "print(max_coords)\n",
    "mean_coords = points.mean(axis=0)\n",
    "print(mean_coords)\n"
   ]
  },
  {
   "cell_type": "code",
   "execution_count": 38,
   "id": "f3580899",
   "metadata": {},
   "outputs": [
    {
     "name": "stdout",
     "output_type": "stream",
     "text": [
      "[[0.84932829 0.55329781 1.        ]\n",
      " [0.81827715 0.54179013 0.4691063 ]\n",
      " [0.80433036 0.53563572 0.23672919]\n",
      " ...\n",
      " [0.5114354  0.83150439 0.13001103]\n",
      " [0.51449541 0.83210203 0.11162192]\n",
      " [0.52824715 0.8144908  0.19829594]]\n",
      "std::vector<Eigen::Vector3d> with 36723 elements.\n",
      "Use numpy.asarray() to access data.\n"
     ]
    }
   ],
   "source": [
    "# Scaling(min-max)\n",
    "scaled_points = (points - points.min(axis=0)) / (points.max(axis=0) - points.min(axis=0))\n",
    "print(scaled_points)\n",
    "pcd.points = o3d.utility.Vector3dVector(scaled_points)\n",
    "print(pcd.points)"
   ]
  },
  {
   "cell_type": "code",
   "execution_count": 39,
   "id": "7e76630f",
   "metadata": {},
   "outputs": [
    {
     "name": "stdout",
     "output_type": "stream",
     "text": [
      "[[ 4.09632547 -2.40100716 28.05062842]\n",
      " [ 3.72414056 -2.5377483  12.08544894]\n",
      " [ 3.55697171 -2.61087864  5.09734144]\n",
      " ...\n",
      " [ 0.04627685  0.90480887  1.88808395]\n",
      " [ 0.08295468  0.91191035  1.33508151]\n",
      " [ 0.24778562  0.70264326  3.94156621]]\n"
     ]
    }
   ],
   "source": [
    "# standardization\n",
    "\n",
    "standardized = (points - points.mean(axis=0)) / points.std(axis=0)\n",
    "print(standardized)\n",
    "pcd.points = o3d.utility.Vector3dVector(standardized)\n"
   ]
  },
  {
   "cell_type": "code",
   "execution_count": 40,
   "id": "f550a7c0",
   "metadata": {},
   "outputs": [],
   "source": [
    "# Statistical Outlier Removal\n",
    "\n",
    "filtered, index = pcd.remove_statistical_outlier(nb_neighbors=20, std_ratio=2.0)\n",
    "o3d.visualization.draw_geometries([filtered])\n"
   ]
  },
  {
   "cell_type": "code",
   "execution_count": 42,
   "id": "6fcf8bc3",
   "metadata": {},
   "outputs": [],
   "source": [
    "#Normalization\n",
    "\n",
    "# Convert to NumPy array\n",
    "points = np.asarray(pcd.points)\n",
    "\n",
    "# Center the cloud (subtract mean)\n",
    "mean = points.mean(axis=0)\n",
    "centered = points - mean\n",
    "\n",
    "# Scale to unit size (divide by max distance from center)\n",
    "max_range = np.abs(centered).max()\n",
    "normalized = centered / max_range\n",
    "\n",
    "# Update the point cloud with normalized points\n",
    "pcd.points = o3d.utility.Vector3dVector(normalized)\n",
    "\n",
    "# Visualize the result\n",
    "o3d.visualization.draw_geometries([pcd])\n"
   ]
  },
  {
   "cell_type": "code",
   "execution_count": null,
   "id": "ebe98794",
   "metadata": {},
   "outputs": [],
   "source": []
  },
  {
   "cell_type": "code",
   "execution_count": null,
   "id": "a7c1e411",
   "metadata": {},
   "outputs": [],
   "source": []
  }
 ],
 "metadata": {
  "kernelspec": {
   "display_name": "Python 3",
   "language": "python",
   "name": "python3"
  },
  "language_info": {
   "codemirror_mode": {
    "name": "ipython",
    "version": 3
   },
   "file_extension": ".py",
   "mimetype": "text/x-python",
   "name": "python",
   "nbconvert_exporter": "python",
   "pygments_lexer": "ipython3",
   "version": "3.8.10"
  }
 },
 "nbformat": 4,
 "nbformat_minor": 5
}
