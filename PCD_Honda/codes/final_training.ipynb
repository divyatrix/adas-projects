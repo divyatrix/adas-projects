{
 "cells": [
  {
   "cell_type": "code",
   "execution_count": 6,
   "id": "4bfe51cb",
   "metadata": {},
   "outputs": [
    {
     "name": "stdout",
     "output_type": "stream",
     "text": [
      "Original Point Cloud: PointCloud with 36723 points.\n"
     ]
    }
   ],
   "source": [
    "import open3d as o3d\n",
    "import numpy as np\n",
    "import matplotlib.pyplot as plt\n",
    "\n",
    "# ---------- Load & Visualize ----------\n",
    "pcd = o3d.io.read_point_cloud(\"/home/divya1/PCD_Honda/Data/Pcd_Data/1398110231.025_ascii.pcd\")\n",
    "print(\"Original Point Cloud:\", pcd)\n",
    "o3d.visualization.draw_geometries([pcd], window_name=\"Original Point Cloud\")"
   ]
  },
  {
   "cell_type": "code",
   "execution_count": 7,
   "id": "b722c64c",
   "metadata": {},
   "outputs": [
    {
     "name": "stdout",
     "output_type": "stream",
     "text": [
      "Stats - Min: [-44.3769989 -63.0530014  -0.866    ] Max: [37.64899826 15.59000015 15.44799995] Mean: [-2.74268995 -3.64932906  0.23072747]\n"
     ]
    }
   ],
   "source": [
    "# ---------- Cleaning ----------\n",
    "pcd.remove_non_finite_points()\n",
    "points = np.asarray(pcd.points)\n",
    "print(\"Stats - Min:\", points.min(axis=0), \"Max:\", points.max(axis=0), \"Mean:\", points.mean(axis=0))\n"
   ]
  },
  {
   "cell_type": "code",
   "execution_count": 8,
   "id": "c9930365",
   "metadata": {},
   "outputs": [],
   "source": [
    "# ---------- Filtering ----------\n",
    "pcd, _ = pcd.remove_radius_outlier(nb_points=5, radius=0.1)\n",
    "pcd, _ = pcd.remove_statistical_outlier(nb_neighbors=20, std_ratio=2.0)\n",
    "o3d.visualization.draw_geometries([pcd], window_name=\"Filtered Point Cloud\")\n"
   ]
  },
  {
   "cell_type": "code",
   "execution_count": 9,
   "id": "99678f64",
   "metadata": {},
   "outputs": [],
   "source": [
    "# ---------- Downsampling ----------\n",
    "voxel_down = pcd.voxel_down_sample(voxel_size=0.05)\n",
    "uniform_down = pcd.uniform_down_sample(every_k_points=10)\n"
   ]
  },
  {
   "cell_type": "code",
   "execution_count": 10,
   "id": "5e88d30b",
   "metadata": {},
   "outputs": [],
   "source": [
    "# ---------- Estimate Normals ----------\n",
    "voxel_down.estimate_normals(search_param=o3d.geometry.KDTreeSearchParamKNN(knn=30))\n",
    "o3d.visualization.draw_geometries([voxel_down], point_show_normal=True)\n"
   ]
  },
  {
   "cell_type": "code",
   "execution_count": 11,
   "id": "1c57dd57",
   "metadata": {},
   "outputs": [
    {
     "data": {
      "text/plain": [
       "PointCloud with 16173 points."
      ]
     },
     "execution_count": 11,
     "metadata": {},
     "output_type": "execute_result"
    }
   ],
   "source": [
    "# ---------- Transformations ----------\n",
    "pcd.translate((2, 0, 0))\n",
    "R = pcd.get_rotation_matrix_from_xyz((0, 0, np.pi / 4))\n",
    "pcd.rotate(R, center=(0, 0, 0))\n",
    "pcd.scale(0.5, center=pcd.get_center())\n"
   ]
  },
  {
   "cell_type": "code",
   "execution_count": 12,
   "id": "df908991",
   "metadata": {},
   "outputs": [],
   "source": [
    "# ---------- Bounding Boxes ----------\n",
    "aabb = pcd.get_axis_aligned_bounding_box()\n",
    "obb = pcd.get_oriented_bounding_box()\n",
    "aabb.color = (1, 0, 0)  # Red AABB\n",
    "obb.color = (0, 1, 0)  # Green OBB\n",
    "o3d.visualization.draw_geometries([pcd, aabb, obb])\n"
   ]
  },
  {
   "cell_type": "code",
   "execution_count": 14,
   "id": "372ff7f0",
   "metadata": {},
   "outputs": [
    {
     "name": "stdout",
     "output_type": "stream",
     "text": [
      "Precompute neighbors.[========================================] 100%\n",
      "Clustering[========================================] 100%\n"
     ]
    }
   ],
   "source": [
    "# ---------- DBSCAN Clustering ----------\n",
    "labels = np.array(pcd.cluster_dbscan(eps=0.2, min_points=10, print_progress=True))\n",
    "max_label = labels.max()\n",
    "colors = plt.get_cmap(\"tab20\")(labels / (max_label if max_label > 0 else 1))\n",
    "# colors[labels < 0] = [0, 0, 0]  # Black for noise\n",
    "pcd.colors = o3d.utility.Vector3dVector(colors[:, :3])\n",
    "o3d.visualization.draw_geometries([pcd], window_name=\"DBSCAN Clustering\")\n"
   ]
  },
  {
   "cell_type": "code",
   "execution_count": 15,
   "id": "d4e27404",
   "metadata": {},
   "outputs": [],
   "source": [
    "# ---------- Cluster Bounding Boxes ----------\n",
    "cluster_indices = np.where(labels == 0)[0]\n",
    "cluster = pcd.select_by_index(cluster_indices)\n",
    "aabb = cluster.get_axis_aligned_bounding_box()\n",
    "obb = cluster.get_oriented_bounding_box()\n",
    "aabb.color = (1, 0, 0)\n",
    "obb.color = (0, 1, 0)\n",
    "o3d.visualization.draw_geometries([cluster, aabb, obb])\n"
   ]
  },
  {
   "cell_type": "code",
   "execution_count": 16,
   "id": "50019f52",
   "metadata": {},
   "outputs": [
    {
     "name": "stdout",
     "output_type": "stream",
     "text": [
      "Distance between point[0] and point[10]: 14.826318474372385\n",
      "Distance of point[0] to plane: 15.865993806932634\n"
     ]
    }
   ],
   "source": [
    "# ---------- Distance Metrics ----------\n",
    "dist = np.linalg.norm(points[0] - points[10])\n",
    "print(\"Distance between point[0] and point[10]:\", dist)\n",
    "\n",
    "plane_model, inliers = pcd.segment_plane(distance_threshold=0.01, ransac_n=3, num_iterations=1000)\n",
    "[a, b, c, d] = plane_model\n",
    "x, y, z = points[0]\n",
    "dist_to_plane = abs(a*x + b*y + c*z + d) / np.sqrt(a**2 + b**2 + c**2)\n",
    "print(\"Distance of point[0] to plane:\", dist_to_plane)\n"
   ]
  },
  {
   "cell_type": "code",
   "execution_count": 17,
   "id": "c4467fdf",
   "metadata": {},
   "outputs": [
    {
     "data": {
      "text/plain": [
       "True"
      ]
     },
     "execution_count": 17,
     "metadata": {},
     "output_type": "execute_result"
    }
   ],
   "source": [
    "# ---------- Preprocessing for Deep Learning ----------\n",
    "center = np.mean(points, axis=0)\n",
    "pcd.translate(-center)\n",
    "\n",
    "scale = np.max(np.linalg.norm(points, axis=1))\n",
    "points /= scale\n",
    "pcd.points = o3d.utility.Vector3dVector(points)\n",
    "\n",
    "np.save(\"cloud_1024.npy\", np.asarray(pcd.points)[:1024])\n",
    "o3d.io.write_point_cloud(\"processed_output.pcd\", pcd)\n"
   ]
  },
  {
   "cell_type": "code",
   "execution_count": null,
   "id": "e56b66d9",
   "metadata": {},
   "outputs": [],
   "source": []
  }
 ],
 "metadata": {
  "kernelspec": {
   "display_name": "Python 3",
   "language": "python",
   "name": "python3"
  },
  "language_info": {
   "codemirror_mode": {
    "name": "ipython",
    "version": 3
   },
   "file_extension": ".py",
   "mimetype": "text/x-python",
   "name": "python",
   "nbconvert_exporter": "python",
   "pygments_lexer": "ipython3",
   "version": "3.8.10"
  }
 },
 "nbformat": 4,
 "nbformat_minor": 5
}
