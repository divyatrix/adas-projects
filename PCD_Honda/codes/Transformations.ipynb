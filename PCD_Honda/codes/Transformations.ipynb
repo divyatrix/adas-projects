{
 "cells": [
  {
   "cell_type": "code",
   "execution_count": 12,
   "id": "431904ea",
   "metadata": {},
   "outputs": [],
   "source": [
    "import open3d as o3d\n",
    "import numpy as np"
   ]
  },
  {
   "cell_type": "code",
   "execution_count": 13,
   "id": "9908b57e",
   "metadata": {},
   "outputs": [
    {
     "name": "stdout",
     "output_type": "stream",
     "text": [
      "PointCloud with 36723 points.\n"
     ]
    }
   ],
   "source": [
    "\n",
    "# Load your file\n",
    "pcd = o3d.io.read_point_cloud(\"/home/divya1/PCD_Honda/Data/1398110231.025_ascii.pcd\")\n",
    "print(pcd)"
   ]
  },
  {
   "cell_type": "code",
   "execution_count": 14,
   "id": "f8c7ceca",
   "metadata": {},
   "outputs": [],
   "source": [
    "o3d.visualization.draw_geometries([pcd])"
   ]
  },
  {
   "cell_type": "code",
   "execution_count": 7,
   "id": "99d05d7a",
   "metadata": {},
   "outputs": [
    {
     "name": "stdout",
     "output_type": "stream",
     "text": [
      "PointCloud with 36723 points.\n"
     ]
    }
   ],
   "source": [
    "# Translate\n",
    "a= pcd.translate((5, 0, 2))\n",
    "print(a)"
   ]
  },
  {
   "cell_type": "code",
   "execution_count": 8,
   "id": "ca072589",
   "metadata": {},
   "outputs": [],
   "source": [
    "o3d.visualization.draw_geometries([a])"
   ]
  },
  {
   "cell_type": "code",
   "execution_count": 10,
   "id": "ec214d82",
   "metadata": {},
   "outputs": [
    {
     "name": "stdout",
     "output_type": "stream",
     "text": [
      "Rotated the cloud\n"
     ]
    }
   ],
   "source": [
    "# Step 3: Apply Rotation (Rotate 45° around Z axis)\n",
    "R = pcd.get_rotation_matrix_from_xyz((0, 0, np.pi / 4))\n",
    "pcd.rotate(R, center=(0, 0, 0))\n",
    "print(\"Rotated the cloud\")\n"
   ]
  },
  {
   "cell_type": "code",
   "execution_count": 11,
   "id": "3381c65a",
   "metadata": {},
   "outputs": [
    {
     "name": "stdout",
     "output_type": "stream",
     "text": [
      "Scaled the cloud\n"
     ]
    }
   ],
   "source": [
    "# Step 4: Apply Scaling (Shrink to 50% size)\n",
    "pcd.scale(0.5, center=pcd.get_center())\n",
    "print(\"Scaled the cloud\")\n"
   ]
  },
  {
   "cell_type": "code",
   "execution_count": 18,
   "id": "a698d2da",
   "metadata": {},
   "outputs": [
    {
     "name": "stdout",
     "output_type": "stream",
     "text": [
      "Original point cloud: PointCloud with 36723 points.\n",
      "Translated the cloud\n",
      "Rotated the cloud\n",
      "Scaled the cloud\n",
      "Saved transformed point cloud.\n"
     ]
    }
   ],
   "source": [
    "import open3d as o3d\n",
    "import numpy as np\n",
    "\n",
    "# Step 1: Load the point cloud\n",
    "pcd = o3d.io.read_point_cloud(\"/home/divya1/PCD_Honda/Data/1398110231.025_ascii.pcd\")\n",
    "print(\"Original point cloud:\", pcd)\n",
    "\n",
    "# Step 2: Apply Translation (Move 3 meters in X, 1 meter up)\n",
    "pcd.translate((3, 0, 1))\n",
    "print(\"Translated the cloud\")\n",
    "\n",
    "# Step 3: Apply Rotation (Rotate 45° around Z axis)\n",
    "R = pcd.get_rotation_matrix_from_xyz((0, 0, np.pi / 4))\n",
    "pcd.rotate(R, center=(0, 0, 0))\n",
    "print(\"Rotated the cloud\")\n",
    "\n",
    "# Step 4: Apply Scaling (Shrink to 50% size)\n",
    "pcd.scale(0.5, center=pcd.get_center())\n",
    "print(\"Scaled the cloud\")\n",
    "\n",
    "# Step 5: Visualize the transformed point cloud\n",
    "o3d.visualization.draw_geometries([pcd], window_name=\"Transformed Cloud\")\n",
    "\n",
    "# Step 6: Save the transformed cloud (optional)\n",
    "o3d.io.write_point_cloud(\"/home/divya1/PCD_Honda/Data/transformed_sample.pcd\", pcd)\n",
    "print(\"Saved transformed point cloud.\")\n"
   ]
  },
  {
   "cell_type": "code",
   "execution_count": null,
   "id": "fc8a5b16",
   "metadata": {},
   "outputs": [],
   "source": []
  }
 ],
 "metadata": {
  "kernelspec": {
   "display_name": "Python 3",
   "language": "python",
   "name": "python3"
  },
  "language_info": {
   "codemirror_mode": {
    "name": "ipython",
    "version": 3
   },
   "file_extension": ".py",
   "mimetype": "text/x-python",
   "name": "python",
   "nbconvert_exporter": "python",
   "pygments_lexer": "ipython3",
   "version": "3.8.10"
  }
 },
 "nbformat": 4,
 "nbformat_minor": 5
}
