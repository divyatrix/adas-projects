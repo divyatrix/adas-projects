{
 "cells": [
  {
   "cell_type": "markdown",
   "id": "25b875dd",
   "metadata": {},
   "source": [
    "1. Loading the .pcd file\n",
    "\n",
    "2. Simulating color-coded clusters\n",
    "\n",
    "3. Adding bounding boxes\n",
    "\n",
    "4. Adding a line annotation\n",
    "\n",
    "5. Visualizing everything\n",
    "\n",
    "6. (Optional) Exporting a screenshot"
   ]
  },
  {
   "cell_type": "code",
   "execution_count": 1,
   "id": "1588bd70",
   "metadata": {},
   "outputs": [
    {
     "name": "stdout",
     "output_type": "stream",
     "text": [
      "Jupyter environment detected. Enabling Open3D WebVisualizer.\n",
      "[Open3D INFO] WebRTC GUI backend enabled.\n",
      "[Open3D INFO] WebRTCWindowSystem: HTTP handshake server disabled.\n"
     ]
    }
   ],
   "source": [
    "import open3d as o3d\n",
    "import numpy as np\n"
   ]
  },
  {
   "cell_type": "code",
   "execution_count": 3,
   "id": "a989240f",
   "metadata": {},
   "outputs": [
    {
     "name": "stdout",
     "output_type": "stream",
     "text": [
      "\u001b[1;33m[Open3D WARNING] Read PCD failed: unable to open file: /home/divya1/PCD_Honda/Data/1398110231.025_ascii.pcd\u001b[0;m\n",
      "Loaded point cloud: PointCloud with 0 points.\n"
     ]
    }
   ],
   "source": [
    "# Step 1: Load the point cloud\n",
    "pcd = o3d.io.read_point_cloud(\"/home/divya1/PCD_Honda/Data/1398110231.025_ascii.pcd\")\n",
    "print(\"Loaded point cloud:\", pcd)"
   ]
  },
  {
   "cell_type": "code",
   "execution_count": 30,
   "id": "cf67a21f",
   "metadata": {},
   "outputs": [],
   "source": [
    "# Step 2: Simulate 3 clusters by splitting the point cloud manually\n",
    "points = np.asarray(pcd.points)\n",
    "n = len(points)\n",
    "cluster1 = pcd.select_by_index(np.arange(0, n//3))\n",
    "cluster2 = pcd.select_by_index(np.arange(n//3, 2*n//3))\n",
    "cluster3 = pcd.select_by_index(np.arange(2*n//3, n))\n"
   ]
  },
  {
   "cell_type": "code",
   "execution_count": 31,
   "id": "ea6e134e",
   "metadata": {},
   "outputs": [
    {
     "data": {
      "text/plain": [
       "PointCloud with 12241 points."
      ]
     },
     "execution_count": 31,
     "metadata": {},
     "output_type": "execute_result"
    }
   ],
   "source": [
    "# Step 3: Apply unique colors to each cluster\n",
    "cluster1.paint_uniform_color([1, 0, 0])  # Red\n",
    "cluster2.paint_uniform_color([0, 1, 0])  # Green\n",
    "cluster3.paint_uniform_color([0, 0, 1])  # Blue"
   ]
  },
  {
   "cell_type": "code",
   "execution_count": 32,
   "id": "0deccace",
   "metadata": {},
   "outputs": [],
   "source": [
    "\n",
    "# Step 4: Add a bounding box around one cluster\n",
    "bbox = cluster2.get_axis_aligned_bounding_box()\n",
    "bbox.color = (1, 1, 0)  # Yellow box"
   ]
  },
  {
   "cell_type": "code",
   "execution_count": 33,
   "id": "1e3a5ef6",
   "metadata": {},
   "outputs": [],
   "source": [
    "\n",
    "# Step 5: Add a line from origin to center of that cluster\n",
    "start_point = [0, 0, 0]\n",
    "end_point = bbox.get_center().tolist()\n",
    "line_points = [start_point, end_point]\n",
    "line_indices = [[0, 1]]\n",
    "\n",
    "line = o3d.geometry.LineSet(\n",
    "    points=o3d.utility.Vector3dVector(line_points),\n",
    "    lines=o3d.utility.Vector2iVector(line_indices)\n",
    ")\n",
    "line.colors = o3d.utility.Vector3dVector([[0, 1, 1]])  # Cyan"
   ]
  },
  {
   "cell_type": "code",
   "execution_count": 39,
   "id": "f5d2e911",
   "metadata": {},
   "outputs": [],
   "source": [
    "# Step 6: Visualize everything together\n",
    "o3d.visualization.draw_geometries(\n",
    "    [cluster1, cluster2, cluster3, bbox, line],\n",
    "    window_name=\" Advanced Visualization\"\n",
    ")\n",
    "\n"
   ]
  },
  {
   "cell_type": "code",
   "execution_count": 35,
   "id": "516d14de",
   "metadata": {},
   "outputs": [
    {
     "name": "stdout",
     "output_type": "stream",
     "text": [
      "Screenshot saved to: day13_visual_output.png\n"
     ]
    }
   ],
   "source": [
    "# Step 7 (Optional): Save screenshot of the final view\n",
    "vis = o3d.visualization.Visualizer()\n",
    "vis.create_window(visible=False)\n",
    "vis.add_geometry(cluster1)\n",
    "vis.add_geometry(cluster2)\n",
    "vis.add_geometry(cluster3)\n",
    "vis.add_geometry(bbox)\n",
    "vis.add_geometry(line)\n",
    "vis.poll_events()\n",
    "vis.update_renderer()\n",
    "vis.capture_screen_image(\"/home/divya1/PCD_Honda/Data/day13_visual_output.png\")\n",
    "vis.destroy_window()\n",
    "print(\"Screenshot saved to: day13_visual_output.png\")"
   ]
  },
  {
   "cell_type": "code",
   "execution_count": null,
   "id": "56e55f22",
   "metadata": {},
   "outputs": [],
   "source": []
  },
  {
   "cell_type": "code",
   "execution_count": null,
   "id": "7519c674",
   "metadata": {},
   "outputs": [],
   "source": []
  },
  {
   "cell_type": "code",
   "execution_count": null,
   "id": "cee63186",
   "metadata": {},
   "outputs": [],
   "source": []
  }
 ],
 "metadata": {
  "kernelspec": {
   "display_name": "Python 3",
   "language": "python",
   "name": "python3"
  },
  "language_info": {
   "codemirror_mode": {
    "name": "ipython",
    "version": 3
   },
   "file_extension": ".py",
   "mimetype": "text/x-python",
   "name": "python",
   "nbconvert_exporter": "python",
   "pygments_lexer": "ipython3",
   "version": "3.8.10"
  }
 },
 "nbformat": 4,
 "nbformat_minor": 5
}
