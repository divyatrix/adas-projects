{
 "cells": [
  {
   "cell_type": "markdown",
   "id": "5797e85d",
   "metadata": {},
   "source": [
    "\n",
    "\n",
    "1. Loads your .pcd file\n",
    "2. Applies DBSCAN clustering\n",
    "3. Colors each cluster differently\n",
    "4. Prints total points, number of clusters, and noise points\n",
    "5. Visualizes the clustered and colored point cloud"
   ]
  },
  {
   "cell_type": "code",
   "execution_count": 49,
   "id": "7ffb3da4",
   "metadata": {},
   "outputs": [],
   "source": [
    "import open3d as o3d\n",
    "import numpy as np\n",
    "import matplotlib.pyplot as plt"
   ]
  },
  {
   "cell_type": "code",
   "execution_count": 67,
   "id": "02373d6f",
   "metadata": {},
   "outputs": [
    {
     "name": "stdout",
     "output_type": "stream",
     "text": [
      "Loaded point cloud with 36723 points.\n"
     ]
    }
   ],
   "source": [
    "# Step 1: Load the .pcd file\n",
    "pcd = o3d.io.read_point_cloud(\"/home/divya1/PCD_Honda/Data/Pcd_Data/1398110231.025_ascii.pcd\")\n",
    "print(\"Loaded point cloud with\", np.asarray(pcd.points).shape[0], \"points.\")"
   ]
  },
  {
   "cell_type": "code",
   "execution_count": 71,
   "id": "63be0fbd",
   "metadata": {},
   "outputs": [],
   "source": [
    "# visualize the loaded pcd \n",
    "\n",
    "o3d.visualization.draw_geometries([pcd], window_name=\"Original Point Cloud\")"
   ]
  },
  {
   "cell_type": "code",
   "execution_count": 72,
   "id": "9328a2e6",
   "metadata": {},
   "outputs": [
    {
     "name": "stdout",
     "output_type": "stream",
     "text": [
      "Precompute neighbors.[========================================] 100%\n",
      "Clustering[==>                                     ] 5%\r"
     ]
    }
   ],
   "source": [
    "# Step 2: Apply DBSCAN (tuned parameters)\n",
    "labels = np.array(pcd.cluster_dbscan(eps=0.05, min_points=10, print_progress=True))"
   ]
  },
  {
   "cell_type": "code",
   "execution_count": 73,
   "id": "1098fa02",
   "metadata": {},
   "outputs": [
    {
     "name": "stdout",
     "output_type": "stream",
     "text": [
      "\n",
      "📊 Clustering Summary:\n",
      "Total points: 36723\n",
      "Unique clusters (excluding noise): 47\n",
      "Noise points: 34073\n"
     ]
    }
   ],
   "source": [
    "# Step 3: Cluster statistics\n",
    "total_points = len(labels)\n",
    "unique_clusters = len(set(labels)) - (1 if -1 in labels else 0)\n",
    "noise_points = np.sum(labels == -1)\n",
    "print(\"\\n📊 Clustering Summary:\")\n",
    "print(\"Total points:\", total_points)\n",
    "print(\"Unique clusters (excluding noise):\", unique_clusters)\n",
    "print(\"Noise points:\", noise_points)"
   ]
  },
  {
   "cell_type": "code",
   "execution_count": 85,
   "id": "e221a5f8",
   "metadata": {},
   "outputs": [],
   "source": [
    "# Step 4: Color clusters\n",
    "max_label = labels.max()\n",
    "colors = plt.get_cmap(\"tab20\")(labels / (max_label + 1 if max_label >= 0 else 1))\n",
    "# colors = colors[:, :3]  # Convert to RGB only BEFORE assigning\n",
    "# colors[labels < 0] = [0, 0, 0]  # Now this works correctly\n",
    "colors[labels < 0] = [0, 0, 0, 1]  # RGBA: black + full opacity\n",
    "pcd.colors = o3d.utility.Vector3dVector(colors[:, :3])"
   ]
  },
  {
   "cell_type": "code",
   "execution_count": 86,
   "id": "04bb9128",
   "metadata": {},
   "outputs": [],
   "source": [
    "# Step 5: Visualize clustered point cloud\n",
    "o3d.visualization.draw_geometries([pcd], window_name=\"DBSCAN Clustering\")"
   ]
  },
  {
   "cell_type": "code",
   "execution_count": 87,
   "id": "1aaf1cb8",
   "metadata": {},
   "outputs": [
    {
     "name": "stdout",
     "output_type": "stream",
     "text": [
      "Total clusters (excluding noise): 47\n"
     ]
    }
   ],
   "source": [
    "# How to Count Clusters:\n",
    "unique_labels = set(labels)\n",
    "num_clusters = len(unique_labels) - (1 if -1 in unique_labels else 0)\n",
    "print(\"Total clusters (excluding noise):\", num_clusters)"
   ]
  },
  {
   "cell_type": "code",
   "execution_count": null,
   "id": "7dc8bcb1",
   "metadata": {},
   "outputs": [],
   "source": []
  }
 ],
 "metadata": {
  "kernelspec": {
   "display_name": "Python 3",
   "language": "python",
   "name": "python3"
  },
  "language_info": {
   "codemirror_mode": {
    "name": "ipython",
    "version": 3
   },
   "file_extension": ".py",
   "mimetype": "text/x-python",
   "name": "python",
   "nbconvert_exporter": "python",
   "pygments_lexer": "ipython3",
   "version": "3.8.10"
  }
 },
 "nbformat": 4,
 "nbformat_minor": 5
}
